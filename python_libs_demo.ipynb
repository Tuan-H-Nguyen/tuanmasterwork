{
 "cells": [
  {
   "cell_type": "code",
   "execution_count": 10,
   "id": "071843ff",
   "metadata": {},
   "outputs": [
    {
     "name": "stdout",
     "output_type": "stream",
     "text": [
      "ma trận 1 \n",
      " [[0.24123166 0.59149665 0.07134898]\n",
      " [0.32452813 0.21845199 0.07758001]\n",
      " [0.04857175 0.50737679 0.9013665 ]]\n",
      "ma trận 2 \n",
      " [[0.32182935 0.3958567  0.41845779]\n",
      " [0.64631573 0.32504314 0.15308183]\n",
      " [0.65187196 0.62240544 0.76484406]]\n",
      "Tổng ma trận 1 và 2\n",
      " [[0.56306101 0.98735335 0.48980676]\n",
      " [0.97084386 0.54349512 0.23066184]\n",
      " [0.70044371 1.12978223 1.66621056]]\n"
     ]
    }
   ],
   "source": [
    "import numpy as np\n",
    "#tạo các ma trận với giá trị ngẫu nhiên\n",
    "mat1 = np.random.rand(3,3)\n",
    "print(\"ma trận 1 \\n\", mat1)\n",
    "mat2 = np.random.rand(3,3)\n",
    "print(\"ma trận 2 \\n\",mat2)\n",
    "print(\"Tổng ma trận 1 và 2\\n\",mat1 + mat2)"
   ]
  },
  {
   "cell_type": "code",
   "execution_count": 11,
   "id": "93f09cd8",
   "metadata": {},
   "outputs": [
    {
     "data": {
      "text/html": [
       "<div>\n",
       "<style scoped>\n",
       "    .dataframe tbody tr th:only-of-type {\n",
       "        vertical-align: middle;\n",
       "    }\n",
       "\n",
       "    .dataframe tbody tr th {\n",
       "        vertical-align: top;\n",
       "    }\n",
       "\n",
       "    .dataframe thead th {\n",
       "        text-align: right;\n",
       "    }\n",
       "</style>\n",
       "<table border=\"1\" class=\"dataframe\">\n",
       "  <thead>\n",
       "    <tr style=\"text-align: right;\">\n",
       "      <th></th>\n",
       "      <th>Unnamed: 0</th>\n",
       "      <th>No</th>\n",
       "      <th>BG</th>\n",
       "      <th>IP</th>\n",
       "      <th>EA</th>\n",
       "      <th>smiles</th>\n",
       "    </tr>\n",
       "  </thead>\n",
       "  <tbody>\n",
       "    <tr>\n",
       "      <th>0</th>\n",
       "      <td>0</td>\n",
       "      <td>P4.1</td>\n",
       "      <td>4.837</td>\n",
       "      <td>6.134</td>\n",
       "      <td>1.297</td>\n",
       "      <td>c12c3ccccc3c4ccccc4c1cccc2</td>\n",
       "    </tr>\n",
       "    <tr>\n",
       "      <th>1</th>\n",
       "      <td>1</td>\n",
       "      <td>P4.2</td>\n",
       "      <td>4.168</td>\n",
       "      <td>5.812</td>\n",
       "      <td>1.644</td>\n",
       "      <td>c1(c(ccc2c1cccc2)cc3)c4c3cccc4</td>\n",
       "    </tr>\n",
       "    <tr>\n",
       "      <th>2</th>\n",
       "      <td>2</td>\n",
       "      <td>P4.3</td>\n",
       "      <td>4.207</td>\n",
       "      <td>5.799</td>\n",
       "      <td>1.592</td>\n",
       "      <td>c1(ccccc1cc2)c3c2c4ccccc4cc3</td>\n",
       "    </tr>\n",
       "    <tr>\n",
       "      <th>3</th>\n",
       "      <td>3</td>\n",
       "      <td>P4.4</td>\n",
       "      <td>3.720</td>\n",
       "      <td>5.599</td>\n",
       "      <td>1.879</td>\n",
       "      <td>c1(ccccc1cc2cc3)cc2c4c3cccc4</td>\n",
       "    </tr>\n",
       "    <tr>\n",
       "      <th>4</th>\n",
       "      <td>4</td>\n",
       "      <td>P4.5</td>\n",
       "      <td>2.747</td>\n",
       "      <td>5.131</td>\n",
       "      <td>2.384</td>\n",
       "      <td>c12cc3cc4ccccc4cc3cc1cccc2</td>\n",
       "    </tr>\n",
       "    <tr>\n",
       "      <th>...</th>\n",
       "      <td>...</td>\n",
       "      <td>...</td>\n",
       "      <td>...</td>\n",
       "      <td>...</td>\n",
       "      <td>...</td>\n",
       "      <td>...</td>\n",
       "    </tr>\n",
       "    <tr>\n",
       "      <th>243</th>\n",
       "      <td>243</td>\n",
       "      <td>T8.12</td>\n",
       "      <td>3.213</td>\n",
       "      <td>5.327</td>\n",
       "      <td>2.114</td>\n",
       "      <td>s1ccc2cc3cc4c5ccccc5c5c6ccc7ccsc7c6ccc5c4cc3cc12</td>\n",
       "    </tr>\n",
       "    <tr>\n",
       "      <th>244</th>\n",
       "      <td>244</td>\n",
       "      <td>T8.13</td>\n",
       "      <td>2.681</td>\n",
       "      <td>5.078</td>\n",
       "      <td>2.397</td>\n",
       "      <td>s1ccc2c1cc1cc3cc4c(ccc5cc6cc7c(scc7)cc6cc45)cc...</td>\n",
       "    </tr>\n",
       "    <tr>\n",
       "      <th>245</th>\n",
       "      <td>245</td>\n",
       "      <td>T8.14</td>\n",
       "      <td>1.883</td>\n",
       "      <td>4.732</td>\n",
       "      <td>2.849</td>\n",
       "      <td>s1ccc2c3cc4cc5cc6cc7ccc8c(ccs8)c7cc6cc5cc4cc3c...</td>\n",
       "    </tr>\n",
       "    <tr>\n",
       "      <th>246</th>\n",
       "      <td>246</td>\n",
       "      <td>T8.15</td>\n",
       "      <td>2.947</td>\n",
       "      <td>5.250</td>\n",
       "      <td>2.303</td>\n",
       "      <td>s1ccc2c1ccc1c2c2c(c3c(scc3)cc2)c2c1cc1cc3ccccc...</td>\n",
       "    </tr>\n",
       "    <tr>\n",
       "      <th>247</th>\n",
       "      <td>247</td>\n",
       "      <td>T8.16</td>\n",
       "      <td>2.968</td>\n",
       "      <td>5.255</td>\n",
       "      <td>2.286</td>\n",
       "      <td>s1ccc2c1ccc1c2c2c(ccc3c2ccs3)c2c1cc1cc3ccccc3c...</td>\n",
       "    </tr>\n",
       "  </tbody>\n",
       "</table>\n",
       "<p>248 rows × 6 columns</p>\n",
       "</div>"
      ],
      "text/plain": [
       "     Unnamed: 0     No     BG     IP     EA  \\\n",
       "0             0   P4.1  4.837  6.134  1.297   \n",
       "1             1   P4.2  4.168  5.812  1.644   \n",
       "2             2   P4.3  4.207  5.799  1.592   \n",
       "3             3   P4.4  3.720  5.599  1.879   \n",
       "4             4   P4.5  2.747  5.131  2.384   \n",
       "..          ...    ...    ...    ...    ...   \n",
       "243         243  T8.12  3.213  5.327  2.114   \n",
       "244         244  T8.13  2.681  5.078  2.397   \n",
       "245         245  T8.14  1.883  4.732  2.849   \n",
       "246         246  T8.15  2.947  5.250  2.303   \n",
       "247         247  T8.16  2.968  5.255  2.286   \n",
       "\n",
       "                                                smiles  \n",
       "0                           c12c3ccccc3c4ccccc4c1cccc2  \n",
       "1                       c1(c(ccc2c1cccc2)cc3)c4c3cccc4  \n",
       "2                         c1(ccccc1cc2)c3c2c4ccccc4cc3  \n",
       "3                         c1(ccccc1cc2cc3)cc2c4c3cccc4  \n",
       "4                           c12cc3cc4ccccc4cc3cc1cccc2  \n",
       "..                                                 ...  \n",
       "243   s1ccc2cc3cc4c5ccccc5c5c6ccc7ccsc7c6ccc5c4cc3cc12  \n",
       "244  s1ccc2c1cc1cc3cc4c(ccc5cc6cc7c(scc7)cc6cc45)cc...  \n",
       "245  s1ccc2c3cc4cc5cc6cc7ccc8c(ccs8)c7cc6cc5cc4cc3c...  \n",
       "246  s1ccc2c1ccc1c2c2c(c3c(scc3)cc2)c2c1cc1cc3ccccc...  \n",
       "247  s1ccc2c1ccc1c2c2c(ccc3c2ccs3)c2c1cc1cc3ccccc3c...  \n",
       "\n",
       "[248 rows x 6 columns]"
      ]
     },
     "execution_count": 11,
     "metadata": {},
     "output_type": "execute_result"
    }
   ],
   "source": [
    "import pandas as pd\n",
    "\n",
    "pd.read_csv(\"raw_pah_data.csv\")"
   ]
  },
  {
   "cell_type": "code",
   "execution_count": 13,
   "id": "05afdfd5",
   "metadata": {},
   "outputs": [
    {
     "name": "stdout",
     "output_type": "stream",
     "text": [
      "hệ số góc của mô hình [1. 2.]\n",
      "intercept của mô hình 3.0000000000000018\n"
     ]
    }
   ],
   "source": [
    "from sklearn.linear_model import LinearRegression\n",
    "\n",
    "model = LinearRegression()\n",
    "\n",
    "X = np.array([[1, 1], [1, 2], [2, 2], [2, 3]])\n",
    "\n",
    "# y = 1 * x_0 + 2 * x_1 + 3\n",
    "y = np.dot(X, np.array([1, 2])) + 3\n",
    "\n",
    "model.fit(X,y)\n",
    "\n",
    "print(\"hệ số góc của mô hình\", model.coef_)\n",
    "print(\"intercept của mô hình\", model.intercept_)"
   ]
  },
  {
   "cell_type": "code",
   "execution_count": 21,
   "id": "b0ade71e",
   "metadata": {},
   "outputs": [
    {
     "data": {
      "image/png": "[encoded data removed]",
      "text/plain": [
       "<rdkit.Chem.rdchem.Mol at 0x1932ee61460>"
      ]
     },
     "execution_count": 21,
     "metadata": {},
     "output_type": "execute_result"
    }
   ],
   "source": [
    "import rdkit\n",
    "import rdkit.Chem as Chem\n",
    "\n",
    "mol = Chem.MolFromSmiles(\"s1ccc2cc3cc4c5ccccc5c5c6ccc7ccsc7c6ccc5c4cc3cc12\")\n",
    "mol"
   ]
  },
  {
   "cell_type": "code",
   "execution_count": 28,
   "id": "44d97011",
   "metadata": {},
   "outputs": [
    {
     "data": {
      "text/plain": [
       "[1, 1, 1, 0, 1, 1, 1, 0, 0, 1, 1, 1, 0, 1, 0, 1, 1, 1, 0, 1, 0, 0, 1, 1, 1, 1]"
      ]
     },
     "execution_count": 28,
     "metadata": {},
     "output_type": "execute_result"
    }
   ],
   "source": [
    "import rdkit.Chem.AllChem as AllChem\n",
    "\n",
    "ecfp = AllChem.GetMorganFingerprintAsBitVect(mol,2,nBits = 26)\n",
    "ecfp = list(ecfp)\n",
    "ecfp"
   ]
  },
  {
   "cell_type": "code",
   "execution_count": 44,
   "id": "7d4b1ca6",
   "metadata": {},
   "outputs": [
    {
     "name": "stdout",
     "output_type": "stream",
     "text": [
      "[16, 6, 6, 6, 6, 6, 6, 6, 6, 6, 6, 6, 6, 6, 6, 6, 6, 6, 6, 6, 6, 16, 6, 6, 6, 6, 6, 6, 6, 6, 6, 6]\n"
     ]
    }
   ],
   "source": [
    "mol = Chem.MolFromSmiles(\"s1ccc2cc3cc4c5ccccc5c5c6ccc7ccsc7c6ccc5c4cc3cc12\")\n",
    "\n",
    "nodes = []\n",
    "for atom in mol.GetAtoms():\n",
    "    nodes.append(atom.GetAtomicNum())\n",
    "\n",
    "print(nodes)"
   ]
  },
  {
   "cell_type": "code",
   "execution_count": 45,
   "id": "007a9aca",
   "metadata": {},
   "outputs": [
    {
     "data": {
      "text/plain": [
       "<matplotlib.image.AxesImage at 0x1932fe04820>"
      ]
     },
     "execution_count": 45,
     "metadata": {},
     "output_type": "execute_result"
    },
    {
     "data": {
      "image/png": "[encoded data removed]",
      "text/plain": [
       "<Figure size 640x480 with 1 Axes>"
      ]
     },
     "metadata": {},
     "output_type": "display_data"
    }
   ],
   "source": [
    "adj_mat = np.zeros((len(nodes),len(nodes)))\n",
    "for bond in mol.GetBonds():\n",
    "    i = bond.GetBeginAtomIdx()\n",
    "    j = bond.GetEndAtomIdx()\n",
    "    adj_mat[i][j] = 1\n",
    "    adj_mat[j][i] = 1\n",
    "\n",
    "import matplotlib.pyplot as plt\n",
    "plt.imshow(adj_mat,cmap = \"Greys\")"
   ]
  },
  {
   "cell_type": "code",
   "execution_count": 3,
   "id": "0cae2a5f",
   "metadata": {},
   "outputs": [
    {
     "data": {
      "text/plain": [
       "[30, 2, 35, 4]"
      ]
     },
     "execution_count": 3,
     "metadata": {},
     "output_type": "execute_result"
    }
   ],
   "source": [
    "from collections import Counter\n",
    "from rdkit import Chem\n",
    "from rdkit.Chem import AllChem\n",
    "\n",
    "def smiles2atom_bond_count(smiles):\n",
    "    if isinstance(smiles,list):\n",
    "        _list = []\n",
    "        for s in smiles:\n",
    "            _list.append(smiles2atom_bond_count(s))\n",
    "        return np.array(_list)\n",
    "    else:\n",
    "        mol = Chem.MolFromSmiles(smiles)\n",
    "\n",
    "        nodes = []\n",
    "        for atom in mol.GetAtoms():\n",
    "            nodes.append(atom.GetAtomicNum())\n",
    "        counter = Counter(nodes)\n",
    "\n",
    "        cc_bond = 0; cs_bond = 0\n",
    "        for bond in mol.GetBonds():\n",
    "            i = bond.GetBeginAtomIdx()\n",
    "            j = bond.GetEndAtomIdx()\n",
    "            if 16 in [nodes[i],nodes[j]]:\n",
    "                cs_bond += 1\n",
    "            else:\n",
    "                cc_bond += 1\n",
    "\n",
    "        return [counter[6],counter[16],cc_bond,cs_bond]\n",
    "\n",
    "smiles2atom_bond_count(\"s1ccc2cc3cc4c5ccccc5c5c6ccc7ccsc7c6ccc5c4cc3cc12\")"
   ]
  },
  {
   "cell_type": "code",
   "execution_count": null,
   "id": "cbf20c3a",
   "metadata": {},
   "outputs": [],
   "source": []
  }
 ],
 "metadata": {
  "kernelspec": {
   "display_name": "Python 3 (ipykernel)",
   "language": "python",
   "name": "python3"
  },
  "language_info": {
   "codemirror_mode": {
    "name": "ipython",
    "version": 3
   },
   "file_extension": ".py",
   "mimetype": "text/x-python",
   "name": "python",
   "nbconvert_exporter": "python",
   "pygments_lexer": "ipython3",
   "version": "3.9.13"
  }
 },
 "nbformat": 4,
 "nbformat_minor": 5
}
