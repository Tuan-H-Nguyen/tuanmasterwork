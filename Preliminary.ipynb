{
 "cells": [
  {
   "cell_type": "code",
   "execution_count": 1,
   "id": "c76850d0",
   "metadata": {},
   "outputs": [],
   "source": [
    "from collections import Counter\n",
    "\n",
    "import numpy as np\n",
    "import pandas as pd\n",
    "import matplotlib.pyplot as plt\n",
    "\n",
    "from sklearn.linear_model import LinearRegression, Ridge\n",
    "from sklearn.kernel_ridge import KernelRidge\n",
    "from sklearn.model_selection import GridSearchCV, train_test_split\n",
    "\n",
    "from rdkit import Chem\n",
    "from rdkit.Chem import AllChem"
   ]
  },
  {
   "cell_type": "code",
   "execution_count": 2,
   "id": "58028bee",
   "metadata": {},
   "outputs": [
    {
     "name": "stdout",
     "output_type": "stream",
     "text": [
      "This data has 248 datapoints and 6 columns\n"
     ]
    },
    {
     "data": {
      "text/html": [
       "<div>\n",
       "<style scoped>\n",
       "    .dataframe tbody tr th:only-of-type {\n",
       "        vertical-align: middle;\n",
       "    }\n",
       "\n",
       "    .dataframe tbody tr th {\n",
       "        vertical-align: top;\n",
       "    }\n",
       "\n",
       "    .dataframe thead th {\n",
       "        text-align: right;\n",
       "    }\n",
       "</style>\n",
       "<table border=\"1\" class=\"dataframe\">\n",
       "  <thead>\n",
       "    <tr style=\"text-align: right;\">\n",
       "      <th></th>\n",
       "      <th>Unnamed: 0</th>\n",
       "      <th>No</th>\n",
       "      <th>BG</th>\n",
       "      <th>IP</th>\n",
       "      <th>EA</th>\n",
       "      <th>smiles</th>\n",
       "    </tr>\n",
       "  </thead>\n",
       "  <tbody>\n",
       "    <tr>\n",
       "      <th>0</th>\n",
       "      <td>0</td>\n",
       "      <td>P4.1</td>\n",
       "      <td>4.837</td>\n",
       "      <td>6.134</td>\n",
       "      <td>1.297</td>\n",
       "      <td>c12c3ccccc3c4ccccc4c1cccc2</td>\n",
       "    </tr>\n",
       "    <tr>\n",
       "      <th>1</th>\n",
       "      <td>1</td>\n",
       "      <td>P4.2</td>\n",
       "      <td>4.168</td>\n",
       "      <td>5.812</td>\n",
       "      <td>1.644</td>\n",
       "      <td>c1(c(ccc2c1cccc2)cc3)c4c3cccc4</td>\n",
       "    </tr>\n",
       "    <tr>\n",
       "      <th>2</th>\n",
       "      <td>2</td>\n",
       "      <td>P4.3</td>\n",
       "      <td>4.207</td>\n",
       "      <td>5.799</td>\n",
       "      <td>1.592</td>\n",
       "      <td>c1(ccccc1cc2)c3c2c4ccccc4cc3</td>\n",
       "    </tr>\n",
       "    <tr>\n",
       "      <th>3</th>\n",
       "      <td>3</td>\n",
       "      <td>P4.4</td>\n",
       "      <td>3.720</td>\n",
       "      <td>5.599</td>\n",
       "      <td>1.879</td>\n",
       "      <td>c1(ccccc1cc2cc3)cc2c4c3cccc4</td>\n",
       "    </tr>\n",
       "    <tr>\n",
       "      <th>4</th>\n",
       "      <td>4</td>\n",
       "      <td>P4.5</td>\n",
       "      <td>2.747</td>\n",
       "      <td>5.131</td>\n",
       "      <td>2.384</td>\n",
       "      <td>c12cc3cc4ccccc4cc3cc1cccc2</td>\n",
       "    </tr>\n",
       "  </tbody>\n",
       "</table>\n",
       "</div>"
      ],
      "text/plain": [
       "   Unnamed: 0    No     BG     IP     EA                          smiles\n",
       "0           0  P4.1  4.837  6.134  1.297      c12c3ccccc3c4ccccc4c1cccc2\n",
       "1           1  P4.2  4.168  5.812  1.644  c1(c(ccc2c1cccc2)cc3)c4c3cccc4\n",
       "2           2  P4.3  4.207  5.799  1.592    c1(ccccc1cc2)c3c2c4ccccc4cc3\n",
       "3           3  P4.4  3.720  5.599  1.879    c1(ccccc1cc2cc3)cc2c4c3cccc4\n",
       "4           4  P4.5  2.747  5.131  2.384      c12cc3cc4ccccc4cc3cc1cccc2"
      ]
     },
     "execution_count": 2,
     "metadata": {},
     "output_type": "execute_result"
    }
   ],
   "source": [
    "data = pd.read_csv(\"raw_pah_data.csv\")\n",
    "\n",
    "print(\"This data has {} datapoints and {} columns\".format(*data.shape))\n",
    "data.head()"
   ]
  },
  {
   "cell_type": "code",
   "execution_count": 5,
   "id": "20b89789",
   "metadata": {},
   "outputs": [
    {
     "name": "stdout",
     "output_type": "stream",
     "text": [
      "Train set has 173 datapoints and 6 columns\n",
      "Test set has 75 datapoints and 6 columns\n"
     ]
    }
   ],
   "source": [
    "train_set,test_set = train_test_split(\n",
    "    data, train_size = 0.7, test_size = 0.3\n",
    ")\n",
    "print(\"Train set has {} datapoints and {} columns\".format(*train_set.shape))\n",
    "print(\"Test set has {} datapoints and {} columns\".format(*test_set.shape))"
   ]
  },
  {
   "cell_type": "code",
   "execution_count": 3,
   "id": "aa04e54d",
   "metadata": {},
   "outputs": [],
   "source": [
    "def smiles2ecfp(smiles,radius,length):\n",
    "    if isinstance(smiles,list):\n",
    "        ecfp_list = []\n",
    "        for s in smiles:\n",
    "            ecfp_list.append(smiles2ecfp(s,radius,length))\n",
    "        return np.array(ecfp_list)\n",
    "    else:\n",
    "        mol = Chem.MolFromSmiles(smiles)\n",
    "        ecfp = AllChem.GetMorganFingerprintAsBitVect(mol,radius,nBits = length)\n",
    "        ecfp = np.array(list(ecfp))\n",
    "        return ecfp\n",
    "\n",
    "def smiles2atom_count(smiles):\n",
    "    if isinstance(smiles,list):\n",
    "        _list = []\n",
    "        for s in smiles:\n",
    "            _list.append(smiles2atom_count(s))\n",
    "        return np.array(_list)\n",
    "    else:\n",
    "        mol = Chem.MolFromSmiles(smiles)\n",
    "\n",
    "        nodes = []\n",
    "        for atom in mol.GetAtoms():\n",
    "            nodes.append(atom.GetAtomicNum())\n",
    "        counter = Counter(nodes)\n",
    "    \n",
    "        return np.array([counter[6],counter[16]])\n",
    "\n",
    "def smiles2atom_bond_count(smiles):\n",
    "    if isinstance(smiles,list):\n",
    "        _list = []\n",
    "        for s in smiles:\n",
    "            _list.append(smiles2atom_bond_count(s))\n",
    "        return np.array(_list)\n",
    "    else:\n",
    "        mol = Chem.MolFromSmiles(smiles)\n",
    "\n",
    "        nodes = []\n",
    "        for atom in mol.GetAtoms():\n",
    "            nodes.append(atom.GetAtomicNum())\n",
    "        counter = Counter(nodes)\n",
    "\n",
    "        cc_bond = 0; cs_bond = 0\n",
    "        for bond in mol.GetBonds():\n",
    "            i = bond.GetBeginAtomIdx()\n",
    "            j = bond.GetEndAtomIdx()\n",
    "            if 16 in [nodes[i],nodes[j]]:\n",
    "                cs_bond += 1\n",
    "            else:\n",
    "                cc_bond += 1\n",
    "\n",
    "        return [counter[6],counter[16],cc_bond,cs_bond]\n",
    "    \n",
    "def RMSE(Y_pred,Y):\n",
    "    se = (Y_pred - Y)**2\n",
    "    mse = np.mean(se,axis = 0)\n",
    "    return np.sqrt(mse)"
   ]
  },
  {
   "cell_type": "code",
   "execution_count": 6,
   "id": "7a1cbc9c",
   "metadata": {},
   "outputs": [
    {
     "name": "stdout",
     "output_type": "stream",
     "text": [
      "Training RMSEs for BG: 0.51eV, EA: 0.27eV, IP: 0.24eV, \n",
      "Testing RMSEs for BG: 0.55eV, EA: 0.30eV, IP: 0.26eV, \n",
      "Training RMSEs for BG: 0.5eV, EA: 0.27eV, IP: 0.24eV, \n",
      "Testing RMSEs for BG: 0.57eV, EA: 0.30eV, IP: 0.27eV, \n"
     ]
    }
   ],
   "source": [
    "X_train = smiles2atom_count(list(train_set.loc[:,\"smiles\"]))\n",
    "Y_train = np.array(train_set.loc[:,[\"BG\",\"EA\",\"IP\"]])\n",
    "\n",
    "X_test = smiles2atom_count(list(test_set.loc[:,\"smiles\"]))\n",
    "Y_test = np.array(test_set.loc[:,[\"BG\",\"EA\",\"IP\"]])\n",
    "\n",
    "lm = LinearRegression()\n",
    "lm.fit(X_train,Y_train)\n",
    "\n",
    "print(\n",
    "    \"Training RMSEs for BG: {:.2}eV, EA: {:.2f}eV, IP: {:.2f}eV, \".format(\n",
    "        *list(RMSE(lm.predict(X_train),Y_train)))\n",
    ")\n",
    "\n",
    "print(\n",
    "    \"Testing RMSEs for BG: {:.2}eV, EA: {:.2f}eV, IP: {:.2f}eV, \".format(\n",
    "        *list(RMSE(lm.predict(X_test),Y_test)))\n",
    ")\n",
    "\n",
    "krr = GridSearchCV(\n",
    "        KernelRidge(kernel = \"rbf\"),\n",
    "        param_grid = {\n",
    "            \"alpha\":[1e-3,1e-2,1e-1,1],\n",
    "            \"gamma\":[1e-4,1e-3,1e-2,1e-1]\n",
    "        }\n",
    "    )\n",
    "krr.fit(X_train,Y_train)\n",
    "\n",
    "print(\n",
    "    \"Training RMSEs for BG: {:.2}eV, EA: {:.2f}eV, IP: {:.2f}eV, \".format(\n",
    "        *list(RMSE(krr.predict(X_train),Y_train)))\n",
    ")\n",
    "\n",
    "print(\n",
    "    \"Testing RMSEs for BG: {:.2}eV, EA: {:.2f}eV, IP: {:.2f}eV, \".format(\n",
    "        *list(RMSE(krr.predict(X_test),Y_test)))\n",
    ")"
   ]
  },
  {
   "cell_type": "code",
   "execution_count": 7,
   "id": "33fc12c2",
   "metadata": {},
   "outputs": [
    {
     "name": "stdout",
     "output_type": "stream",
     "text": [
      "ECFP radius = 1\n",
      "Training RMSEs for BG: 0.52eV, EA: 0.28eV, IP: 0.24eV, \n",
      "Testing RMSEs for BG: 0.55eV, EA: 0.30eV, IP: 0.25eV, \n",
      "ECFP radius = 2\n",
      "Training RMSEs for BG: 0.31eV, EA: 0.17eV, IP: 0.14eV, \n",
      "Testing RMSEs for BG: 0.39eV, EA: 0.21eV, IP: 0.18eV, \n",
      "ECFP radius = 3\n",
      "Training RMSEs for BG: 0.13eV, EA: 0.07eV, IP: 0.07eV, \n",
      "Testing RMSEs for BG: 1.8e+11eV, EA: 77387273934.19eV, IP: 109528933179.36eV, \n"
     ]
    }
   ],
   "source": [
    "lm_list = []\n",
    "for i in range(1,4):\n",
    "    print(\"ECFP radius = {}\".format(i))\n",
    "    X_train = smiles2ecfp(list(train_set.loc[:,\"smiles\"]),i,1024)\n",
    "    Y_train = np.array(train_set.loc[:,[\"BG\",\"EA\",\"IP\"]])\n",
    "\n",
    "    X_test = smiles2ecfp(list(test_set.loc[:,\"smiles\"]),i,1024)\n",
    "    Y_test = np.array(test_set.loc[:,[\"BG\",\"EA\",\"IP\"]])\n",
    "\n",
    "    lm = LinearRegression()\n",
    "    lm.fit(X_train,Y_train)\n",
    "    lm_list.append(lm)\n",
    "\n",
    "    print(\n",
    "        \"Training RMSEs for BG: {:.2}eV, EA: {:.2f}eV, IP: {:.2f}eV, \".format(\n",
    "            *list(RMSE(lm.predict(X_train),Y_train)))\n",
    "    )\n",
    "    print(\n",
    "        \"Testing RMSEs for BG: {:.2}eV, EA: {:.2f}eV, IP: {:.2f}eV, \".format(\n",
    "            *list(RMSE(lm.predict(X_test),Y_test)))\n",
    "    )"
   ]
  },
  {
   "cell_type": "code",
   "execution_count": 16,
   "id": "13656c90",
   "metadata": {},
   "outputs": [
    {
     "data": {
      "text/plain": [
       "array([[-1.75320942e+12, -2.69992424e+12, -9.27604520e+10, ...,\n",
       "         0.00000000e+00, -1.06230199e+11,  0.00000000e+00],\n",
       "       [ 7.34036741e+11,  1.13040893e+12,  3.88371058e+10, ...,\n",
       "         0.00000000e+00,  4.44766426e+10,  0.00000000e+00],\n",
       "       [-1.03890804e+12, -1.59990756e+12, -5.49675231e+10, ...,\n",
       "         0.00000000e+00, -6.29493580e+10,  0.00000000e+00]])"
      ]
     },
     "execution_count": 16,
     "metadata": {},
     "output_type": "execute_result"
    }
   ],
   "source": [
    "lm_list[-1].coef_"
   ]
  },
  {
   "cell_type": "code",
   "execution_count": 28,
   "id": "e9a9938a",
   "metadata": {},
   "outputs": [
    {
     "name": "stdout",
     "output_type": "stream",
     "text": [
      "ECFP radius = 0\n",
      "Training RMSEs for BG: 0.66eV, EA: 0.35eV, IP: 0.31eV, \n",
      "Testing RMSEs for BG: 0.54eV, EA: 0.30eV, IP: 0.25eV, \n",
      "ECFP radius = 1\n",
      "Training RMSEs for BG: 0.56eV, EA: 0.30eV, IP: 0.26eV, \n",
      "Testing RMSEs for BG: 0.47eV, EA: 0.25eV, IP: 0.22eV, \n",
      "ECFP radius = 2\n",
      "Training RMSEs for BG: 0.31eV, EA: 0.17eV, IP: 0.14eV, \n",
      "Testing RMSEs for BG: 0.38eV, EA: 0.21eV, IP: 0.18eV, \n",
      "ECFP radius = 3\n",
      "Training RMSEs for BG: 0.13eV, EA: 0.07eV, IP: 0.06eV, \n",
      "Testing RMSEs for BG: 0.22eV, EA: 0.12eV, IP: 0.11eV, \n",
      "ECFP radius = 4\n",
      "Training RMSEs for BG: 0.043eV, EA: 0.02eV, IP: 0.02eV, \n",
      "Testing RMSEs for BG: 0.16eV, EA: 0.09eV, IP: 0.08eV, \n",
      "ECFP radius = 5\n",
      "Training RMSEs for BG: 0.019eV, EA: 0.01eV, IP: 0.01eV, \n",
      "Testing RMSEs for BG: 0.15eV, EA: 0.08eV, IP: 0.07eV, \n"
     ]
    }
   ],
   "source": [
    "for i in range(0,6):\n",
    "    print(\"ECFP radius = {}\".format(i))\n",
    "    X_train = smiles2ecfp(list(train_set.loc[:,\"smiles\"]),i,1024)\n",
    "    Y_train = np.array(train_set.loc[:,[\"BG\",\"EA\",\"IP\"]])\n",
    "\n",
    "    X_test = smiles2ecfp(list(test_set.loc[:,\"smiles\"]),i,1024)\n",
    "    Y_test = np.array(test_set.loc[:,[\"BG\",\"EA\",\"IP\"]])\n",
    "\n",
    "    lm = GridSearchCV(\n",
    "        Ridge(),\n",
    "        param_grid = {\"alpha\":[1e-3,1e-2,1e-1]}\n",
    "    )\n",
    "    lm.fit(X_train,Y_train)\n",
    "\n",
    "    print(\n",
    "        \"Training RMSEs for BG: {:.2}eV, EA: {:.2f}eV, IP: {:.2f}eV, \".format(\n",
    "            *list(RMSE(lm.predict(X_train),Y_train)))\n",
    "    )\n",
    "    print(\n",
    "        \"Testing RMSEs for BG: {:.2}eV, EA: {:.2f}eV, IP: {:.2f}eV, \".format(\n",
    "            *list(RMSE(lm.predict(X_test),Y_test)))\n",
    "    )"
   ]
  },
  {
   "cell_type": "code",
   "execution_count": 27,
   "id": "bbed402e",
   "metadata": {},
   "outputs": [
    {
     "name": "stdout",
     "output_type": "stream",
     "text": [
      "ECFP radius = 0\n",
      "Training RMSEs for BG: 0.66eV, EA: 0.35eV, IP: 0.31eV, \n",
      "Testing RMSEs for BG: 0.55eV, EA: 0.30eV, IP: 0.25eV, \n",
      "ECFP radius = 1\n",
      "Training RMSEs for BG: 0.56eV, EA: 0.30eV, IP: 0.26eV, \n",
      "Testing RMSEs for BG: 0.47eV, EA: 0.25eV, IP: 0.22eV, \n",
      "ECFP radius = 2\n",
      "Training RMSEs for BG: 0.33eV, EA: 0.18eV, IP: 0.15eV, \n",
      "Testing RMSEs for BG: 0.33eV, EA: 0.18eV, IP: 0.15eV, \n",
      "ECFP radius = 3\n",
      "Training RMSEs for BG: 0.16eV, EA: 0.09eV, IP: 0.08eV, \n",
      "Testing RMSEs for BG: 0.2eV, EA: 0.11eV, IP: 0.09eV, \n",
      "ECFP radius = 4\n",
      "Training RMSEs for BG: 0.095eV, EA: 0.05eV, IP: 0.04eV, \n",
      "Testing RMSEs for BG: 0.13eV, EA: 0.07eV, IP: 0.06eV, \n",
      "ECFP radius = 5\n",
      "Training RMSEs for BG: 0.027eV, EA: 0.01eV, IP: 0.01eV, \n",
      "Testing RMSEs for BG: 0.15eV, EA: 0.08eV, IP: 0.08eV, \n"
     ]
    }
   ],
   "source": [
    "for i in range(0,6):\n",
    "    print(\"ECFP radius = {}\".format(i))\n",
    "    X_train = smiles2ecfp(list(train_set.loc[:,\"smiles\"]),i,1024)\n",
    "    Y_train = np.array(train_set.loc[:,[\"BG\",\"EA\",\"IP\"]])\n",
    "\n",
    "    X_test = smiles2ecfp(list(test_set.loc[:,\"smiles\"]),i,1024)\n",
    "    Y_test = np.array(test_set.loc[:,[\"BG\",\"EA\",\"IP\"]])\n",
    "\n",
    "    lm = GridSearchCV(\n",
    "        KernelRidge(kernel = \"rbf\"),\n",
    "        param_grid = {\n",
    "            \"alpha\":[1e-3,1e-2,1e-1,1],\n",
    "            \"gamma\":[1e-5,1e-4,1e-3,1e-2,1e-1]\n",
    "        }\n",
    "    )\n",
    "    lm.fit(X_train,Y_train)\n",
    "\n",
    "    print(\n",
    "        \"Training RMSEs for BG: {:.2}eV, EA: {:.2f}eV, IP: {:.2f}eV, \".format(\n",
    "            *list(RMSE(lm.predict(X_train),Y_train)))\n",
    "    )\n",
    "    print(\n",
    "        \"Testing RMSEs for BG: {:.2}eV, EA: {:.2f}eV, IP: {:.2f}eV, \".format(\n",
    "            *list(RMSE(lm.predict(X_test),Y_test)))\n",
    "    )"
   ]
  },
  {
   "cell_type": "code",
   "execution_count": null,
   "id": "726010b6",
   "metadata": {},
   "outputs": [],
   "source": []
  }
 ],
 "metadata": {
  "kernelspec": {
   "display_name": "Python 3 (ipykernel)",
   "language": "python",
   "name": "python3"
  },
  "language_info": {
   "codemirror_mode": {
    "name": "ipython",
    "version": 3
   },
   "file_extension": ".py",
   "mimetype": "text/x-python",
   "name": "python",
   "nbconvert_exporter": "python",
   "pygments_lexer": "ipython3",
   "version": "3.9.13"
  }
 },
 "nbformat": 4,
 "nbformat_minor": 5
}
